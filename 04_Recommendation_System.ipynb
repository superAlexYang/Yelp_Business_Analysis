{
 "cells": [
  {
   "cell_type": "markdown",
   "metadata": {},
   "source": [
    "# 04_Yelp_Restaruant_Recommendation_System"
   ]
  },
  {
   "cell_type": "code",
   "execution_count": 1,
   "metadata": {},
   "outputs": [],
   "source": [
    "import pandas as pd\n",
    "import numpy as np\n",
    "import matplotlib.pyplot as plt"
   ]
  },
  {
   "cell_type": "code",
   "execution_count": 2,
   "metadata": {},
   "outputs": [
    {
     "data": {
      "text/html": [
       "<div>\n",
       "<style scoped>\n",
       "    .dataframe tbody tr th:only-of-type {\n",
       "        vertical-align: middle;\n",
       "    }\n",
       "\n",
       "    .dataframe tbody tr th {\n",
       "        vertical-align: top;\n",
       "    }\n",
       "\n",
       "    .dataframe thead th {\n",
       "        text-align: right;\n",
       "    }\n",
       "</style>\n",
       "<table border=\"1\" class=\"dataframe\">\n",
       "  <thead>\n",
       "    <tr style=\"text-align: right;\">\n",
       "      <th></th>\n",
       "      <th>Unnamed: 0</th>\n",
       "      <th>business_id</th>\n",
       "      <th>name</th>\n",
       "      <th>latitude</th>\n",
       "      <th>longitude</th>\n",
       "      <th>review_count</th>\n",
       "      <th>city</th>\n",
       "      <th>average_stars</th>\n",
       "      <th>categories</th>\n",
       "      <th>funny</th>\n",
       "      <th>user_id</th>\n",
       "      <th>review_id</th>\n",
       "      <th>text</th>\n",
       "      <th>stars</th>\n",
       "      <th>date</th>\n",
       "      <th>useful</th>\n",
       "      <th>cool</th>\n",
       "    </tr>\n",
       "  </thead>\n",
       "  <tbody>\n",
       "    <tr>\n",
       "      <th>0</th>\n",
       "      <td>24</td>\n",
       "      <td>-01XupAWZEXbdNbxNg5mEg</td>\n",
       "      <td>18 Degrees Neighborhood Grill</td>\n",
       "      <td>33.639205</td>\n",
       "      <td>-111.881925</td>\n",
       "      <td>77</td>\n",
       "      <td>Scottsdale</td>\n",
       "      <td>3.0</td>\n",
       "      <td>['Sports Bars', 'Nightlife', 'Restaurants', 'A...</td>\n",
       "      <td>1</td>\n",
       "      <td>-XoCb6sUMa7NoFayUW0FlA</td>\n",
       "      <td>Z7ufB8dFZ_9VjkcntOEsig</td>\n",
       "      <td>Horrible!  Had the happy hour nachos.  The che...</td>\n",
       "      <td>1</td>\n",
       "      <td>2016-09-03</td>\n",
       "      <td>2</td>\n",
       "      <td>0</td>\n",
       "    </tr>\n",
       "    <tr>\n",
       "      <th>1</th>\n",
       "      <td>26</td>\n",
       "      <td>-01XupAWZEXbdNbxNg5mEg</td>\n",
       "      <td>18 Degrees Neighborhood Grill</td>\n",
       "      <td>33.639205</td>\n",
       "      <td>-111.881925</td>\n",
       "      <td>77</td>\n",
       "      <td>Scottsdale</td>\n",
       "      <td>3.0</td>\n",
       "      <td>['Sports Bars', 'Nightlife', 'Restaurants', 'A...</td>\n",
       "      <td>0</td>\n",
       "      <td>TqZOtEPp28bHyHyfkXonNw</td>\n",
       "      <td>pK6q9LKp1W1qQ0boE6kcsA</td>\n",
       "      <td>not bad for a hockey rink.....very good service</td>\n",
       "      <td>4</td>\n",
       "      <td>2017-04-05</td>\n",
       "      <td>0</td>\n",
       "      <td>0</td>\n",
       "    </tr>\n",
       "    <tr>\n",
       "      <th>2</th>\n",
       "      <td>27</td>\n",
       "      <td>-01XupAWZEXbdNbxNg5mEg</td>\n",
       "      <td>18 Degrees Neighborhood Grill</td>\n",
       "      <td>33.639205</td>\n",
       "      <td>-111.881925</td>\n",
       "      <td>77</td>\n",
       "      <td>Scottsdale</td>\n",
       "      <td>3.0</td>\n",
       "      <td>['Sports Bars', 'Nightlife', 'Restaurants', 'A...</td>\n",
       "      <td>0</td>\n",
       "      <td>o0yk9cD97rPqsNCcb4DBFQ</td>\n",
       "      <td>RjIl7CW18ZYoUZkAdLHYig</td>\n",
       "      <td>Went to this little place on Groupon, not one ...</td>\n",
       "      <td>1</td>\n",
       "      <td>2017-04-12</td>\n",
       "      <td>0</td>\n",
       "      <td>0</td>\n",
       "    </tr>\n",
       "  </tbody>\n",
       "</table>\n",
       "</div>"
      ],
      "text/plain": [
       "   Unnamed: 0             business_id                           name  \\\n",
       "0          24  -01XupAWZEXbdNbxNg5mEg  18 Degrees Neighborhood Grill   \n",
       "1          26  -01XupAWZEXbdNbxNg5mEg  18 Degrees Neighborhood Grill   \n",
       "2          27  -01XupAWZEXbdNbxNg5mEg  18 Degrees Neighborhood Grill   \n",
       "\n",
       "    latitude   longitude  review_count        city  average_stars  \\\n",
       "0  33.639205 -111.881925            77  Scottsdale            3.0   \n",
       "1  33.639205 -111.881925            77  Scottsdale            3.0   \n",
       "2  33.639205 -111.881925            77  Scottsdale            3.0   \n",
       "\n",
       "                                          categories  funny  \\\n",
       "0  ['Sports Bars', 'Nightlife', 'Restaurants', 'A...      1   \n",
       "1  ['Sports Bars', 'Nightlife', 'Restaurants', 'A...      0   \n",
       "2  ['Sports Bars', 'Nightlife', 'Restaurants', 'A...      0   \n",
       "\n",
       "                  user_id               review_id  \\\n",
       "0  -XoCb6sUMa7NoFayUW0FlA  Z7ufB8dFZ_9VjkcntOEsig   \n",
       "1  TqZOtEPp28bHyHyfkXonNw  pK6q9LKp1W1qQ0boE6kcsA   \n",
       "2  o0yk9cD97rPqsNCcb4DBFQ  RjIl7CW18ZYoUZkAdLHYig   \n",
       "\n",
       "                                                text  stars        date  \\\n",
       "0  Horrible!  Had the happy hour nachos.  The che...      1  2016-09-03   \n",
       "1    not bad for a hockey rink.....very good service      4  2017-04-05   \n",
       "2  Went to this little place on Groupon, not one ...      1  2017-04-12   \n",
       "\n",
       "   useful  cool  \n",
       "0       2     0  \n",
       "1       0     0  \n",
       "2       0     0  "
      ]
     },
     "execution_count": 2,
     "metadata": {},
     "output_type": "execute_result"
    }
   ],
   "source": [
    "df = pd.read_csv('C:/Users/ymp/Yelp_Business_Proj/df_AZ_final.csv')\n",
    "df.head(3)"
   ]
  },
  {
   "cell_type": "code",
   "execution_count": null,
   "metadata": {},
   "outputs": [],
   "source": []
  },
  {
   "cell_type": "code",
   "execution_count": null,
   "metadata": {},
   "outputs": [],
   "source": []
  },
  {
   "cell_type": "code",
   "execution_count": null,
   "metadata": {},
   "outputs": [],
   "source": [
    "#Build the data"
   ]
  },
  {
   "cell_type": "code",
   "execution_count": 3,
   "metadata": {},
   "outputs": [],
   "source": [
    "recommender_df = df[['business_id', 'user_id', 'stars']]\n",
    "reviews_count_df = recommender_df.groupby('user_id')['stars'].count()"
   ]
  },
  {
   "cell_type": "code",
   "execution_count": 4,
   "metadata": {},
   "outputs": [
    {
     "name": "stdout",
     "output_type": "stream",
     "text": [
      "Max reviews: 404, Min reviews: 1\n",
      "Median reviews: 1.0, Mean reviews: 2.78\n",
      "25% reviews: 1,  75% reviews: 3\n",
      "Number of unique business: 8479\n"
     ]
    }
   ],
   "source": [
    "print('Max reviews: %s, Min reviews: %s' % (max(reviews_count_df), min(reviews_count_df)))\n",
    "print('Median reviews: %s, Mean reviews: %s' % (np.median(reviews_count_df), round(np.mean(reviews_count_df),2)))\n",
    "print('25%% reviews: %d,  75%% reviews: %d' % (np.percentile(reviews_count_df, 25), np.percentile(reviews_count_df, 75)))\n",
    "print('Number of unique business: %d' % (len(set(recommender_df['business_id']))))"
   ]
  },
  {
   "cell_type": "code",
   "execution_count": 5,
   "metadata": {},
   "outputs": [
    {
     "data": {
      "text/html": [
       "<div>\n",
       "<style scoped>\n",
       "    .dataframe tbody tr th:only-of-type {\n",
       "        vertical-align: middle;\n",
       "    }\n",
       "\n",
       "    .dataframe tbody tr th {\n",
       "        vertical-align: top;\n",
       "    }\n",
       "\n",
       "    .dataframe thead th {\n",
       "        text-align: right;\n",
       "    }\n",
       "</style>\n",
       "<table border=\"1\" class=\"dataframe\">\n",
       "  <thead>\n",
       "    <tr style=\"text-align: right;\">\n",
       "      <th></th>\n",
       "      <th>business_id</th>\n",
       "      <th>user_id</th>\n",
       "      <th>stars</th>\n",
       "    </tr>\n",
       "  </thead>\n",
       "  <tbody>\n",
       "    <tr>\n",
       "      <th>0</th>\n",
       "      <td>-01XupAWZEXbdNbxNg5mEg</td>\n",
       "      <td>-XoCb6sUMa7NoFayUW0FlA</td>\n",
       "      <td>1</td>\n",
       "    </tr>\n",
       "    <tr>\n",
       "      <th>4</th>\n",
       "      <td>-01XupAWZEXbdNbxNg5mEg</td>\n",
       "      <td>JKDamUXVPAgIV2Hhb97ncw</td>\n",
       "      <td>4</td>\n",
       "    </tr>\n",
       "    <tr>\n",
       "      <th>6</th>\n",
       "      <td>-01XupAWZEXbdNbxNg5mEg</td>\n",
       "      <td>4SxcUfHAVHzMBqb6TtNPQw</td>\n",
       "      <td>3</td>\n",
       "    </tr>\n",
       "  </tbody>\n",
       "</table>\n",
       "</div>"
      ],
      "text/plain": [
       "              business_id                 user_id  stars\n",
       "0  -01XupAWZEXbdNbxNg5mEg  -XoCb6sUMa7NoFayUW0FlA      1\n",
       "4  -01XupAWZEXbdNbxNg5mEg  JKDamUXVPAgIV2Hhb97ncw      4\n",
       "6  -01XupAWZEXbdNbxNg5mEg  4SxcUfHAVHzMBqb6TtNPQw      3"
      ]
     },
     "execution_count": 5,
     "metadata": {},
     "output_type": "execute_result"
    }
   ],
   "source": [
    "#reviews' business_id, user_id and stars\n",
    "active_user = list(reviews_count_df[reviews_count_df >= 10].index)\n",
    "mask = [user in active_user for user in recommender_df['user_id']]\n",
    "active_user_df = recommender_df[mask]\n",
    "active_user_df.head(3)"
   ]
  },
  {
   "cell_type": "code",
   "execution_count": 6,
   "metadata": {},
   "outputs": [
    {
     "name": "stdout",
     "output_type": "stream",
     "text": [
      "active users:  8078\n",
      "active users records: 170088\n"
     ]
    }
   ],
   "source": [
    "print('active users: ', (len(active_user_df.groupby('user_id')['stars'].count())))\n",
    "print('active users records:', (len(active_user_df)))"
   ]
  },
  {
   "cell_type": "code",
   "execution_count": 8,
   "metadata": {},
   "outputs": [
    {
     "data": {
      "text/plain": [
       "<8078x7871 sparse matrix of type '<class 'numpy.float64'>'\n",
       "\twith 0 stored elements in LInked List format>"
      ]
     },
     "execution_count": 8,
     "metadata": {},
     "output_type": "execute_result"
    }
   ],
   "source": [
    "# Create utility matrix\n",
    "from scipy import sparse\n",
    "highest_user_id = len(set(active_user_df['user_id']))\n",
    "highest_movie_id = len(set(active_user_df['business_id']))\n",
    "ratings_mat = sparse.lil_matrix((highest_user_id, highest_movie_id))\n",
    "ratings_mat"
   ]
  },
  {
   "cell_type": "code",
   "execution_count": 9,
   "metadata": {},
   "outputs": [
    {
     "data": {
      "text/plain": [
       "<8078x7871 sparse matrix of type '<class 'numpy.float64'>'\n",
       "\twith 170088 stored elements in LInked List format>"
      ]
     },
     "execution_count": 9,
     "metadata": {},
     "output_type": "execute_result"
    }
   ],
   "source": [
    "#Fill the rate matrix based on table\n",
    "user_id = list(set(active_user_df['user_id']))\n",
    "business_id = list(set(active_user_df['business_id']))\n",
    "for _, row in active_user_df.iterrows():\n",
    "    ratings_mat[user_id.index(row.user_id), business_id.index(row.business_id)] = row.stars\n",
    "ratings_mat"
   ]
  },
  {
   "cell_type": "code",
   "execution_count": null,
   "metadata": {},
   "outputs": [],
   "source": []
  },
  {
   "cell_type": "markdown",
   "metadata": {},
   "source": [
    "# Item - Item Collaborative Filter Recommender\n"
   ]
  },
  {
   "cell_type": "code",
   "execution_count": 10,
   "metadata": {},
   "outputs": [],
   "source": [
    "from sklearn.metrics.pairwise import cosine_similarity\n",
    "from time import time\n",
    "class ItemItemRecommender(object):\n",
    "\n",
    "    def __init__(self, neighborhood_size):\n",
    "        self.neighborhood_size = neighborhood_size\n",
    "\n",
    "    def fit(self, ratings_mat):\n",
    "        self.ratings_mat = ratings_mat\n",
    "        self.n_users = ratings_mat.shape[0]\n",
    "        self.n_items = ratings_mat.shape[1]\n",
    "        self.item_sim_mat = cosine_similarity(self.ratings_mat.T)\n",
    "        self._set_neighborhoods()\n",
    "\n",
    "    def _set_neighborhoods(self):\n",
    "        least_to_most_sim_indexes = np.argsort(self.item_sim_mat, 1)\n",
    "        self.neighborhoods = least_to_most_sim_indexes[:, -self.neighborhood_size:]\n",
    "\n",
    "    def pred_one_user(self, user_id, report_run_time=False):\n",
    "        start_time = time()\n",
    "        items_rated_by_this_user = self.ratings_mat[user_id].nonzero()[1]\n",
    "        # Just initializing so I have somewhere to put rating preds\n",
    "        out = np.zeros(self.n_items)\n",
    "        for item_to_rate in range(self.n_items):\n",
    "            relevant_items = np.intersect1d(self.neighborhoods[item_to_rate],\n",
    "                                            items_rated_by_this_user,\n",
    "                                            assume_unique=True)  # assume_unique speeds up intersection op\n",
    "            out[item_to_rate] = self.ratings_mat[user_id, relevant_items] * \\\n",
    "                self.item_sim_mat[item_to_rate, relevant_items] / \\\n",
    "                self.item_sim_mat[item_to_rate, relevant_items].sum()\n",
    "        if report_run_time:\n",
    "            print(\"Execution time: %f seconds\" % (time()-start_time))\n",
    "        cleaned_out = np.nan_to_num(out)\n",
    "        return cleaned_out\n",
    "\n",
    "    def pred_all_users(self, report_run_time=False):\n",
    "        start_time = time()\n",
    "        all_ratings = [\n",
    "            self.pred_one_user(user_id) for user_id in range(self.n_users)]\n",
    "        if report_run_time:\n",
    "            print(\"Execution time: %f seconds\" % (time()-start_time))\n",
    "        return np.array(all_ratings)\n",
    "\n",
    "    def top_n_recs(self, user_id, n):\n",
    "        pred_ratings = self.pred_one_user(user_id)\n",
    "        item_index_sorted_by_pred_rating = list(np.argsort(pred_ratings))\n",
    "        items_rated_by_this_user = self.ratings_mat[user_id].nonzero()[1]\n",
    "        unrated_items_by_pred_rating = [item for item in item_index_sorted_by_pred_rating\n",
    "                                        if item not in items_rated_by_this_user]\n",
    "        return unrated_items_by_pred_rating[-n:], items_rated_by_this_user"
   ]
  },
  {
   "cell_type": "code",
   "execution_count": 11,
   "metadata": {},
   "outputs": [],
   "source": [
    "my_rec_engine = ItemItemRecommender(neighborhood_size=80)\n",
    "my_rec_engine.fit(ratings_mat)"
   ]
  },
  {
   "cell_type": "code",
   "execution_count": 12,
   "metadata": {},
   "outputs": [
    {
     "name": "stderr",
     "output_type": "stream",
     "text": [
      "C:\\Users\\ymp\\Anaconda3\\lib\\site-packages\\ipykernel_launcher.py:30: RuntimeWarning: invalid value encountered in true_divide\n"
     ]
    }
   ],
   "source": [
    "lucky_user = np.random.choice(active_user_df['user_id'], 1)[0]\n",
    "lucky_user_index = user_id.index(lucky_user)\n",
    "lucky_user_recommend, items_rated_by_this_user = my_rec_engine.top_n_recs(user_id=lucky_user_index, n = 10)"
   ]
  },
  {
   "cell_type": "code",
   "execution_count": 13,
   "metadata": {},
   "outputs": [
    {
     "name": "stdout",
     "output_type": "stream",
     "text": [
      "The top ten recommendation for user dWLdQjvlpNrOREiaO1SWFQ are: \n",
      "The Counter, Subway, Angry Crab & BBQ, Domino's Pizza, Samurai Sam's, La Pasadita Hot Dogs, Mariscos La Phoenikera, The Venue Scottsdale, Jack-In-the Box Drive Thru, Subway\n"
     ]
    }
   ],
   "source": [
    "print(\"The top ten recommendation for user %s are: \" % (lucky_user))\n",
    "print('%s' % (', '.join(list(set(df['name'][df['business_id'] == business_id[i]]))[0] \\\n",
    "                       for i in lucky_user_recommend)))"
   ]
  },
  {
   "cell_type": "code",
   "execution_count": null,
   "metadata": {},
   "outputs": [],
   "source": []
  },
  {
   "cell_type": "code",
   "execution_count": 15,
   "metadata": {},
   "outputs": [
    {
     "name": "stdout",
     "output_type": "stream",
     "text": [
      "Categories from user rated restaurants: \n",
      "american,asian,bakeries,bar,barbeque,bars,beer,breakfast,brunch,burgers,cafes,caterers,chinese,chips,cocktail,coffee,comfort,cuban,delis,delivery,desserts,eastern,ethnic,event,fast,fish,food,fusion,gastropubs,greek,hawaiian,health,italian,japanese,korean,latin,lebanese,markets,mediterranean,mexican,middle,new,nightlife,pasta,planning,restaurants,salad,sandwiches,seafood,services,shopping,shops,soup,southern,spaces,specialty,sports,steakhouses,street,sushi,tacos,tea,thai,traditional,vegetarian,vendors,venues,vietnamese,wine\n"
     ]
    }
   ],
   "source": [
    "from sklearn.feature_extraction.text import TfidfVectorizer\n",
    "original_rated_restaurants = [list(set(df['name'][df['business_id'] == business_id[i]]))[0] for i in items_rated_by_this_user]\n",
    "mask = [name in original_rated_restaurants for name in df['name']]\n",
    "original_category = df['categories'][mask]\n",
    "vectorizer = TfidfVectorizer(analyzer = 'word', stop_words = 'english', \n",
    "                             lowercase = True\n",
    "                            )\n",
    "original_category_vec = vectorizer.fit_transform(original_category).toarray()\n",
    "original_word = vectorizer.get_feature_names()\n",
    "print('Categories from user rated restaurants: \\n%s' % (','.join(i for i in original_word)))"
   ]
  },
  {
   "cell_type": "code",
   "execution_count": 16,
   "metadata": {},
   "outputs": [
    {
     "name": "stdout",
     "output_type": "stream",
     "text": [
      "Categories from recommend restaurants: \n",
      "american,barbeque,bars,breakfast,brunch,burgers,cajun,caterers,chicken,creole,delis,delivery,dogs,event,fast,food,hot,italian,japanese,mexican,new,nightlife,party,pizza,planning,restaurants,salad,sandwiches,seafood,services,spaces,tapas,traditional,venues,wings\n"
     ]
    }
   ],
   "source": [
    "recommend_res = [list(set(df['name'][df['business_id'] == business_id[i]]))[0] \\\n",
    "                 for i in lucky_user_recommend]\n",
    "mask = [name in recommend_res for name in df['name']]\n",
    "recommend_category = df['categories'][mask]\n",
    "vectorizer = TfidfVectorizer(analyzer = 'word', stop_words = 'english', \n",
    "                             lowercase = True\n",
    "                            )\n",
    "recommend_category_vec = vectorizer.fit_transform(recommend_category).toarray()\n",
    "recommend_word = vectorizer.get_feature_names()\n",
    "print('Categories from recommend restaurants: \\n%s' % (','.join(i for i in recommend_word)))"
   ]
  },
  {
   "cell_type": "code",
   "execution_count": 17,
   "metadata": {},
   "outputs": [
    {
     "name": "stdout",
     "output_type": "stream",
     "text": [
      "Common labels are: \n",
      "american, barbeque, bars, breakfast, brunch, burgers, caterers, delis, delivery, event, fast, food, italian, japanese, mexican, new, nightlife, planning, restaurants, salad, sandwiches, seafood, services, spaces, traditional, venues\n"
     ]
    }
   ],
   "source": [
    "#Check the common labels\n",
    "print(\"Common labels are: \\n%s\" % (', '.join(word for word in recommend_word if word in original_word)))"
   ]
  },
  {
   "cell_type": "code",
   "execution_count": null,
   "metadata": {},
   "outputs": [],
   "source": []
  },
  {
   "cell_type": "markdown",
   "metadata": {},
   "source": [
    "# Matrix Factorization recommender (NMF)"
   ]
  },
  {
   "cell_type": "code",
   "execution_count": 18,
   "metadata": {},
   "outputs": [],
   "source": [
    "from sklearn.decomposition import NMF\n",
    "class NMF_Recommender(object):\n",
    "\n",
    "    def __init__(self, n_components):\n",
    "        self.n_components = n_components\n",
    "\n",
    "    def fit(self, ratings_mat):\n",
    "        self.ratings_mat = ratings_mat\n",
    "        self.n_users = ratings_mat.shape[0]\n",
    "        self.n_items = ratings_mat.shape[1]\n",
    "        nmf = NMF(n_components = 200)\n",
    "        nmf.fit(ratings_mat)\n",
    "        self.W = nmf.transform(ratings_mat)\n",
    "        self.H = nmf.components_\n",
    "        self.error = nmf.reconstruction_err_\n",
    "        self.ratings_mat_fitted = self.W.dot(self.H)\n",
    "\n",
    "    def get_error(self):\n",
    "        return self.error\n",
    "        \n",
    "    def pred_one_user(self, user_id, report_run_time=False):\n",
    "        start_time = time()\n",
    "        cleaned_out = self.ratings_mat_fitted[user_id,:]\n",
    "        if report_run_time:\n",
    "            print(\"Execution time: %f seconds\" % (time()-start_time))\n",
    "        return cleaned_out\n",
    "\n",
    "    def pred_all_users(self, report_run_time=False):\n",
    "        start_time = time()\n",
    "        all_ratings = [\n",
    "            self.pred_one_user(user_id) for user_id in range(self.n_users)]\n",
    "        if report_run_time:\n",
    "            print(\"Execution time: %f seconds\" % (time()-start_time))\n",
    "        return np.array(all_ratings)\n",
    "\n",
    "    def top_n_recs(self, user_id, n):\n",
    "        pred_ratings = self.pred_one_user(user_id)\n",
    "        item_index_sorted_by_pred_rating = list(np.argsort(pred_ratings))\n",
    "        items_rated_by_this_user = self.ratings_mat[user_id].nonzero()[1]\n",
    "        unrated_items_by_pred_rating = [item for item in item_index_sorted_by_pred_rating\n",
    "                                        if item not in items_rated_by_this_user]\n",
    "        return unrated_items_by_pred_rating[-n:], items_rated_by_this_user"
   ]
  },
  {
   "cell_type": "code",
   "execution_count": 19,
   "metadata": {},
   "outputs": [
    {
     "name": "stdout",
     "output_type": "stream",
     "text": [
      "The top ten recommendation for user dWLdQjvlpNrOREiaO1SWFQ are: \n",
      "Rudy's Country Store and Bar-B-Q, Angry Crab Shack, Fiesta Mexicana, The Haymaker Goodyear, Ada's Fish Fry, MOD Pizza, Black Bear Diner, Oregano's Pizza Bistro, Pho Thanh, Saddle Mountain Brewing Company\n"
     ]
    }
   ],
   "source": [
    "# get recommendations for the same lucky user\n",
    "my_rec_engine = NMF_Recommender(n_components=200)\n",
    "my_rec_engine.fit(ratings_mat)\n",
    "lucky_user_recommend, items_rated_by_this_user = my_rec_engine.top_n_recs(user_id=lucky_user_index, n = 10)\n",
    "print(\"The top ten recommendation for user %s are: \" % (lucky_user))\n",
    "print('%s' % (', '.join(list(set(df['name'][df['business_id'] == business_id[i]]))[0] \\\n",
    "                       for i in lucky_user_recommend)))"
   ]
  },
  {
   "cell_type": "code",
   "execution_count": 20,
   "metadata": {},
   "outputs": [
    {
     "name": "stdout",
     "output_type": "stream",
     "text": [
      "The users original rated resturants are :\n",
      " Jim's Burgers and Eggs,The Habit Burger Grill,Firehouse Subs,Ah-So Sushi & Steak,Ruby Tuesday,DaVang's,KiKu Revolving Sushi,Dillon's KC BBQ,Sinbad's Restaurant,Pita Wraps,Yard House,Aloha Kitchen,Biscuits Cafe,Zeta's Grill,Cracker Barrel Old Country Store,Mandy's Fish & Chips,Red's Bar & Grill,Olive Garden Italian Restaurant,Mr Mesquite Taqueria,Heidi's Brooklyn Deli,Little Saigon,China 7 Chinese Cuisine,Wildflower Bread Company,Cuban Foods Bakery & Restaurant,Park Cafe,Benihana,Cheddar's Scratch Kitchen,Mariscos Playa Hermosa,La Barquita Restaurant,Red Lobster,Pita Kitchen - Avondale,Tomo Japanese Cuisine,Benihana,Royal Jasmine Thai Restaurant,Rubio's Coastal Grill,Don Pancho Mexican Food,Subway,Ah Hai Sushi & Grill,Subway,El Original Tacos Jalisco,Firebirds Wood Fired Grill,Lone Spur Cafe,Cafe Rio Mexican Grill,Osaka Japanese Steakhouse,Bluewater Grill,Luci's Healthy Marketplace\n"
     ]
    }
   ],
   "source": [
    "print(\"The users original rated resturants are :\\n %s\" % (','.join(list(set(df['name'][df['business_id'] == business_id[i]]))[0] \\\n",
    "                       for i in items_rated_by_this_user)))"
   ]
  },
  {
   "cell_type": "code",
   "execution_count": 21,
   "metadata": {},
   "outputs": [
    {
     "name": "stdout",
     "output_type": "stream",
     "text": [
      "Categories from user rated restaurants: \n",
      "american,asian,bakeries,bar,barbeque,bars,beer,breakfast,brunch,burgers,cafes,caterers,chinese,chips,cocktail,coffee,comfort,cuban,delis,delivery,desserts,eastern,ethnic,event,fast,fish,food,fusion,gastropubs,greek,hawaiian,health,italian,japanese,korean,latin,lebanese,markets,mediterranean,mexican,middle,new,nightlife,pasta,planning,restaurants,salad,sandwiches,seafood,services,shopping,shops,soup,southern,spaces,specialty,sports,steakhouses,street,sushi,tacos,tea,thai,traditional,vegetarian,vendors,venues,vietnamese,wine\n"
     ]
    }
   ],
   "source": [
    "original_rated_restaurants = [list(set(df['name'][df['business_id'] == business_id[i]]))[0] for i in items_rated_by_this_user]\n",
    "mask = [name in original_rated_restaurants for name in df['name']]\n",
    "original_category = df['categories'][mask]\n",
    "vectorizer = TfidfVectorizer(analyzer = 'word', stop_words = 'english', \n",
    "                             lowercase = True\n",
    "                            )\n",
    "original_category_vec = vectorizer.fit_transform(original_category).toarray()\n",
    "original_word = vectorizer.get_feature_names()\n",
    "print('Categories from user rated restaurants: \\n%s' % (','.join(i for i in original_word)))"
   ]
  },
  {
   "cell_type": "code",
   "execution_count": 22,
   "metadata": {},
   "outputs": [
    {
     "name": "stdout",
     "output_type": "stream",
     "text": [
      "Categories from recommend restaurants: \n",
      "american,automotive,barbeque,bars,breakfast,breweries,brunch,cajun,chicken,chips,creole,diners,fast,fish,food,gas,gastropubs,italian,mexican,new,nightlife,pasta,pizza,restaurants,salad,sandwiches,seafood,shops,soup,specialty,stations,traditional,vietnamese,wings\n"
     ]
    }
   ],
   "source": [
    "recommend_res = [list(set(df['name'][df['business_id'] == business_id[i]]))[0] \\\n",
    "                 for i in lucky_user_recommend]\n",
    "mask = [name in recommend_res for name in df['name']]\n",
    "recommend_category = df['categories'][mask]\n",
    "vectorizer = TfidfVectorizer(analyzer = 'word', stop_words = 'english', \n",
    "                             lowercase = True\n",
    "                            )\n",
    "recommend_category_vec = vectorizer.fit_transform(recommend_category).toarray()\n",
    "recommend_word = vectorizer.get_feature_names()\n",
    "print('Categories from recommend restaurants: \\n%s' % (','.join(i for i in recommend_word)))"
   ]
  },
  {
   "cell_type": "code",
   "execution_count": 23,
   "metadata": {},
   "outputs": [
    {
     "name": "stdout",
     "output_type": "stream",
     "text": [
      "Common labels are: \n",
      "american, barbeque, bars, breakfast, brunch, chips, fast, fish, food, gastropubs, italian, mexican, new, nightlife, pasta, restaurants, salad, sandwiches, seafood, shops, soup, specialty, traditional, vietnamese\n"
     ]
    }
   ],
   "source": [
    "#Check the common labels\n",
    "print(\"Common labels are: \\n%s\" % (', '.join(word for word in recommend_word if word in original_word)))"
   ]
  },
  {
   "cell_type": "code",
   "execution_count": null,
   "metadata": {},
   "outputs": [],
   "source": []
  },
  {
   "cell_type": "code",
   "execution_count": null,
   "metadata": {},
   "outputs": [],
   "source": []
  },
  {
   "cell_type": "code",
   "execution_count": 24,
   "metadata": {},
   "outputs": [
    {
     "name": "stdout",
     "output_type": "stream",
     "text": [
      "The total number of restaurant labels is 445\n"
     ]
    }
   ],
   "source": [
    "#get the number of labels \n",
    "mask = [business in business_id for business in df['business_id']]\n",
    "category = df['categories'][mask]\n",
    "from sklearn.feature_extraction.text import TfidfVectorizer\n",
    "vectorizer = TfidfVectorizer(analyzer = 'word', stop_words = 'english', \n",
    "                             lowercase = True\n",
    "                            )\n",
    "category_vec = vectorizer.fit_transform(category).toarray()\n",
    "words = vectorizer.get_feature_names()\n",
    "#This is the number of unique categories\n",
    "print('The total number of restaurant labels is %d' % (len(words))) "
   ]
  },
  {
   "cell_type": "code",
   "execution_count": 25,
   "metadata": {},
   "outputs": [],
   "source": [
    "from sklearn.decomposition import TruncatedSVD\n",
    "class SVD_Recommender(object):\n",
    "\n",
    "    def __init__(self):\n",
    "        self.n_components = 361 #the number of labels\n",
    "\n",
    "    def fit(self, ratings_mat):\n",
    "        self.ratings_mat = ratings_mat\n",
    "        self.n_users = ratings_mat.shape[0]\n",
    "        self.n_items = ratings_mat.shape[1]\n",
    "        svd = TruncatedSVD(n_components=self.n_components, n_iter=7, random_state=1)\n",
    "        svd.fit(ratings_mat)\n",
    "        self.V = svd.components_\n",
    "        self.U = svd.transform(ratings_mat)\n",
    "        self.ratings_mat_fitted = self.U.dot(self.V)\n",
    "\n",
    "    def get_error(self):\n",
    "        return ((self.ratings_mat_fitted - self.ratings_mat)**2).mean(axis=None)\n",
    "        \n",
    "    def pred_one_user(self, user_id, report_run_time=False):\n",
    "        start_time = time()\n",
    "        cleaned_out = self.ratings_mat_fitted[user_id,:]\n",
    "        if report_run_time:\n",
    "            print(\"Execution time: %f seconds\" % (time()-start_time))\n",
    "        return cleaned_out\n",
    "\n",
    "    def pred_all_users(self, report_run_time=False):\n",
    "        start_time = time()\n",
    "        all_ratings = [\n",
    "            self.pred_one_user(user_id) for user_id in range(self.n_users)]\n",
    "        if report_run_time:\n",
    "            print(\"Execution time: %f seconds\" % (time()-start_time))\n",
    "        return np.array(all_ratings)\n",
    "\n",
    "    def top_n_recs(self, user_id, n):\n",
    "        pred_ratings = self.pred_one_user(user_id)\n",
    "        item_index_sorted_by_pred_rating = list(np.argsort(pred_ratings))\n",
    "        items_rated_by_this_user = self.ratings_mat[user_id].nonzero()[1]\n",
    "        unrated_items_by_pred_rating = [item for item in item_index_sorted_by_pred_rating\n",
    "                                        if item not in items_rated_by_this_user]\n",
    "        return unrated_items_by_pred_rating[-n:], items_rated_by_this_user"
   ]
  },
  {
   "cell_type": "code",
   "execution_count": 26,
   "metadata": {},
   "outputs": [
    {
     "name": "stdout",
     "output_type": "stream",
     "text": [
      "The top ten recommendation for user dWLdQjvlpNrOREiaO1SWFQ are: \n",
      "Mora Italian, Black Bear Diner, TEXAZ Grill, T.C. Eggington's, MOD Pizza, El Chullo Peruvian Restaurant & Bar, Rudy's Country Store and Bar-B-Q, Fiesta Mexicana, Greek Gyro Express, PT Noodles\n"
     ]
    }
   ],
   "source": [
    "# get recommendations for the same lucky user\n",
    "my_rec_engine = SVD_Recommender()\n",
    "my_rec_engine.fit(ratings_mat)\n",
    "lucky_user_recommend, items_rated_by_this_user = my_rec_engine.top_n_recs(user_id=lucky_user_index, n = 10)\n",
    "print(\"The top ten recommendation for user %s are: \" % (lucky_user))\n",
    "print('%s' % (', '.join(list(set(df['name'][df['business_id'] == business_id[i]]))[0] \\\n",
    "                       for i in lucky_user_recommend)))"
   ]
  },
  {
   "cell_type": "code",
   "execution_count": 27,
   "metadata": {},
   "outputs": [
    {
     "name": "stdout",
     "output_type": "stream",
     "text": [
      "Categories from user rated restaurants: \n",
      "american,asian,bakeries,bar,barbeque,bars,beer,breakfast,brunch,burgers,cafes,caterers,chinese,chips,cocktail,coffee,comfort,cuban,delis,delivery,desserts,eastern,ethnic,event,fast,fish,food,fusion,gastropubs,greek,hawaiian,health,italian,japanese,korean,latin,lebanese,markets,mediterranean,mexican,middle,new,nightlife,pasta,planning,restaurants,salad,sandwiches,seafood,services,shopping,shops,soup,southern,spaces,specialty,sports,steakhouses,street,sushi,tacos,tea,thai,traditional,vegetarian,vendors,venues,vietnamese,wine\n"
     ]
    }
   ],
   "source": [
    "original_rated_restaurants = [list(set(df['name'][df['business_id'] == business_id[i]]))[0] for i in items_rated_by_this_user]\n",
    "mask = [name in original_rated_restaurants for name in df['name']]\n",
    "original_category = df['categories'][mask]\n",
    "vectorizer = TfidfVectorizer(analyzer = 'word', stop_words = 'english', \n",
    "                             lowercase = True\n",
    "                            )\n",
    "original_category_vec = vectorizer.fit_transform(original_category).toarray()\n",
    "original_word = vectorizer.get_feature_names()\n",
    "print('Categories from user rated restaurants: \\n%s' % (','.join(i for i in original_word)))"
   ]
  },
  {
   "cell_type": "code",
   "execution_count": 28,
   "metadata": {},
   "outputs": [
    {
     "name": "stdout",
     "output_type": "stream",
     "text": [
      "Categories from recommend restaurants: \n",
      "american,automotive,barbeque,bars,breakfast,brunch,diners,fast,food,gas,greek,italian,juice,mexican,new,noodles,peruvian,pizza,restaurants,salad,sandwiches,smoothies,soup,stations,steakhouses,traditional,vietnamese\n"
     ]
    }
   ],
   "source": [
    "recommend_res = [list(set(df['name'][df['business_id'] == business_id[i]]))[0] \\\n",
    "                 for i in lucky_user_recommend]\n",
    "mask = [name in recommend_res for name in df['name']]\n",
    "recommend_category = df['categories'][mask]\n",
    "vectorizer = TfidfVectorizer(analyzer = 'word', stop_words = 'english', \n",
    "                             lowercase = True\n",
    "                            )\n",
    "recommend_category_vec = vectorizer.fit_transform(recommend_category).toarray()\n",
    "recommend_word = vectorizer.get_feature_names()\n",
    "print('Categories from recommend restaurants: \\n%s' % (','.join(i for i in recommend_word)))"
   ]
  },
  {
   "cell_type": "code",
   "execution_count": 29,
   "metadata": {},
   "outputs": [
    {
     "name": "stdout",
     "output_type": "stream",
     "text": [
      "Common labels are: \n",
      "american, barbeque, bars, breakfast, brunch, fast, food, greek, italian, mexican, new, restaurants, salad, sandwiches, soup, steakhouses, traditional, vietnamese\n"
     ]
    }
   ],
   "source": [
    "#Check the common labels\n",
    "print(\"Common labels are: \\n%s\" % (', '.join(word for word in recommend_word if word in original_word)))"
   ]
  },
  {
   "cell_type": "code",
   "execution_count": null,
   "metadata": {},
   "outputs": [],
   "source": []
  },
  {
   "cell_type": "code",
   "execution_count": null,
   "metadata": {},
   "outputs": [],
   "source": []
  },
  {
   "cell_type": "code",
   "execution_count": null,
   "metadata": {},
   "outputs": [],
   "source": []
  },
  {
   "cell_type": "code",
   "execution_count": null,
   "metadata": {},
   "outputs": [],
   "source": []
  },
  {
   "cell_type": "code",
   "execution_count": null,
   "metadata": {},
   "outputs": [],
   "source": []
  },
  {
   "cell_type": "code",
   "execution_count": null,
   "metadata": {},
   "outputs": [],
   "source": []
  }
 ],
 "metadata": {
  "kernelspec": {
   "display_name": "Python 3",
   "language": "python",
   "name": "python3"
  },
  "language_info": {
   "codemirror_mode": {
    "name": "ipython",
    "version": 3
   },
   "file_extension": ".py",
   "mimetype": "text/x-python",
   "name": "python",
   "nbconvert_exporter": "python",
   "pygments_lexer": "ipython3",
   "version": "3.7.3"
  }
 },
 "nbformat": 4,
 "nbformat_minor": 2
}
