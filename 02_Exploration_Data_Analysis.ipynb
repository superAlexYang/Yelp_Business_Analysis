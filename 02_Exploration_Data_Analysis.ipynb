{
 "cells": [
  {
   "cell_type": "markdown",
   "metadata": {},
   "source": [
    "# 02 Exploration Data Analysis"
   ]
  },
  {
   "cell_type": "code",
   "execution_count": 2,
   "metadata": {},
   "outputs": [],
   "source": [
    "#Let's find some interesting things about popular restaurants in AZ from 2015 to 2017\n",
    "#What are the top 30 restaurants in AZ with most reviews?\n",
    "#What are the top type of restaruants in AZ?"
   ]
  },
  {
   "cell_type": "code",
   "execution_count": 3,
   "metadata": {},
   "outputs": [],
   "source": [
    "#import packages\n",
    "import pandas as pd\n",
    "import numpy as np\n",
    "import matplotlib.pyplot as plt "
   ]
  },
  {
   "cell_type": "code",
   "execution_count": 7,
   "metadata": {},
   "outputs": [
    {
     "data": {
      "text/html": [
       "<div>\n",
       "<style scoped>\n",
       "    .dataframe tbody tr th:only-of-type {\n",
       "        vertical-align: middle;\n",
       "    }\n",
       "\n",
       "    .dataframe tbody tr th {\n",
       "        vertical-align: top;\n",
       "    }\n",
       "\n",
       "    .dataframe thead th {\n",
       "        text-align: right;\n",
       "    }\n",
       "</style>\n",
       "<table border=\"1\" class=\"dataframe\">\n",
       "  <thead>\n",
       "    <tr style=\"text-align: right;\">\n",
       "      <th></th>\n",
       "      <th>Unnamed: 0</th>\n",
       "      <th>business_id</th>\n",
       "      <th>name</th>\n",
       "      <th>latitude</th>\n",
       "      <th>longitude</th>\n",
       "      <th>review_count</th>\n",
       "      <th>city</th>\n",
       "      <th>average_stars</th>\n",
       "      <th>categories</th>\n",
       "      <th>funny</th>\n",
       "      <th>user_id</th>\n",
       "      <th>review_id</th>\n",
       "      <th>text</th>\n",
       "      <th>stars</th>\n",
       "      <th>date</th>\n",
       "      <th>useful</th>\n",
       "      <th>cool</th>\n",
       "    </tr>\n",
       "  </thead>\n",
       "  <tbody>\n",
       "    <tr>\n",
       "      <th>0</th>\n",
       "      <td>24</td>\n",
       "      <td>-01XupAWZEXbdNbxNg5mEg</td>\n",
       "      <td>18 Degrees Neighborhood Grill</td>\n",
       "      <td>33.639205</td>\n",
       "      <td>-111.881925</td>\n",
       "      <td>77</td>\n",
       "      <td>Scottsdale</td>\n",
       "      <td>3.0</td>\n",
       "      <td>['Sports Bars', 'Nightlife', 'Restaurants', 'A...</td>\n",
       "      <td>1</td>\n",
       "      <td>-XoCb6sUMa7NoFayUW0FlA</td>\n",
       "      <td>Z7ufB8dFZ_9VjkcntOEsig</td>\n",
       "      <td>Horrible!  Had the happy hour nachos.  The che...</td>\n",
       "      <td>1</td>\n",
       "      <td>2016-09-03</td>\n",
       "      <td>2</td>\n",
       "      <td>0</td>\n",
       "    </tr>\n",
       "    <tr>\n",
       "      <th>1</th>\n",
       "      <td>26</td>\n",
       "      <td>-01XupAWZEXbdNbxNg5mEg</td>\n",
       "      <td>18 Degrees Neighborhood Grill</td>\n",
       "      <td>33.639205</td>\n",
       "      <td>-111.881925</td>\n",
       "      <td>77</td>\n",
       "      <td>Scottsdale</td>\n",
       "      <td>3.0</td>\n",
       "      <td>['Sports Bars', 'Nightlife', 'Restaurants', 'A...</td>\n",
       "      <td>0</td>\n",
       "      <td>TqZOtEPp28bHyHyfkXonNw</td>\n",
       "      <td>pK6q9LKp1W1qQ0boE6kcsA</td>\n",
       "      <td>not bad for a hockey rink.....very good service</td>\n",
       "      <td>4</td>\n",
       "      <td>2017-04-05</td>\n",
       "      <td>0</td>\n",
       "      <td>0</td>\n",
       "    </tr>\n",
       "    <tr>\n",
       "      <th>2</th>\n",
       "      <td>27</td>\n",
       "      <td>-01XupAWZEXbdNbxNg5mEg</td>\n",
       "      <td>18 Degrees Neighborhood Grill</td>\n",
       "      <td>33.639205</td>\n",
       "      <td>-111.881925</td>\n",
       "      <td>77</td>\n",
       "      <td>Scottsdale</td>\n",
       "      <td>3.0</td>\n",
       "      <td>['Sports Bars', 'Nightlife', 'Restaurants', 'A...</td>\n",
       "      <td>0</td>\n",
       "      <td>o0yk9cD97rPqsNCcb4DBFQ</td>\n",
       "      <td>RjIl7CW18ZYoUZkAdLHYig</td>\n",
       "      <td>Went to this little place on Groupon, not one ...</td>\n",
       "      <td>1</td>\n",
       "      <td>2017-04-12</td>\n",
       "      <td>0</td>\n",
       "      <td>0</td>\n",
       "    </tr>\n",
       "  </tbody>\n",
       "</table>\n",
       "</div>"
      ],
      "text/plain": [
       "   Unnamed: 0             business_id                           name  \\\n",
       "0          24  -01XupAWZEXbdNbxNg5mEg  18 Degrees Neighborhood Grill   \n",
       "1          26  -01XupAWZEXbdNbxNg5mEg  18 Degrees Neighborhood Grill   \n",
       "2          27  -01XupAWZEXbdNbxNg5mEg  18 Degrees Neighborhood Grill   \n",
       "\n",
       "    latitude   longitude  review_count        city  average_stars  \\\n",
       "0  33.639205 -111.881925            77  Scottsdale            3.0   \n",
       "1  33.639205 -111.881925            77  Scottsdale            3.0   \n",
       "2  33.639205 -111.881925            77  Scottsdale            3.0   \n",
       "\n",
       "                                          categories  funny  \\\n",
       "0  ['Sports Bars', 'Nightlife', 'Restaurants', 'A...      1   \n",
       "1  ['Sports Bars', 'Nightlife', 'Restaurants', 'A...      0   \n",
       "2  ['Sports Bars', 'Nightlife', 'Restaurants', 'A...      0   \n",
       "\n",
       "                  user_id               review_id  \\\n",
       "0  -XoCb6sUMa7NoFayUW0FlA  Z7ufB8dFZ_9VjkcntOEsig   \n",
       "1  TqZOtEPp28bHyHyfkXonNw  pK6q9LKp1W1qQ0boE6kcsA   \n",
       "2  o0yk9cD97rPqsNCcb4DBFQ  RjIl7CW18ZYoUZkAdLHYig   \n",
       "\n",
       "                                                text  stars        date  \\\n",
       "0  Horrible!  Had the happy hour nachos.  The che...      1  2016-09-03   \n",
       "1    not bad for a hockey rink.....very good service      4  2017-04-05   \n",
       "2  Went to this little place on Groupon, not one ...      1  2017-04-12   \n",
       "\n",
       "   useful  cool  \n",
       "0       2     0  \n",
       "1       0     0  \n",
       "2       0     0  "
      ]
     },
     "execution_count": 7,
     "metadata": {},
     "output_type": "execute_result"
    }
   ],
   "source": [
    "#read the data\n",
    "df = pd.read_csv('C:/Users/ymp/Yelp_Business_Proj/df_AZ_final.csv')\n",
    "df.head(3)"
   ]
  },
  {
   "cell_type": "markdown",
   "metadata": {},
   "source": [
    "### (1) What are the top 30 restaurants in AZ with most reviews?"
   ]
  },
  {
   "cell_type": "code",
   "execution_count": 8,
   "metadata": {},
   "outputs": [],
   "source": [
    "#Here let's extract the id and name from the df and calculate the rank of each business' review counts\n",
    "#The calculation of _name is very slow, take your coffee\n",
    "_id = list(df.groupby(['business_id'])['review_id'].count().index)\n",
    "_name = [pd.unique(df[df['business_id'] == result]['name'])[0] for result in _id]"
   ]
  },
  {
   "cell_type": "code",
   "execution_count": 9,
   "metadata": {},
   "outputs": [],
   "source": [
    "#Calculate ranks\n",
    "rank = list(df.groupby(['business_id'])['review_id'].count())"
   ]
  },
  {
   "cell_type": "code",
   "execution_count": 10,
   "metadata": {},
   "outputs": [
    {
     "ename": "NameError",
     "evalue": "name '_count' is not defined",
     "output_type": "error",
     "traceback": [
      "\u001b[1;31m---------------------------------------------------------------------------\u001b[0m",
      "\u001b[1;31mNameError\u001b[0m                                 Traceback (most recent call last)",
      "\u001b[1;32m<ipython-input-10-3773b1623156>\u001b[0m in \u001b[0;36m<module>\u001b[1;34m\u001b[0m\n\u001b[0;32m      1\u001b[0m \u001b[1;31m#Now let's plot the top 30 restaurants\u001b[0m\u001b[1;33m\u001b[0m\u001b[1;33m\u001b[0m\u001b[1;33m\u001b[0m\u001b[0m\n\u001b[0;32m      2\u001b[0m \u001b[0mplt\u001b[0m\u001b[1;33m.\u001b[0m\u001b[0mfigure\u001b[0m\u001b[1;33m(\u001b[0m\u001b[0mfigsize\u001b[0m\u001b[1;33m=\u001b[0m\u001b[1;33m(\u001b[0m\u001b[1;36m12\u001b[0m\u001b[1;33m,\u001b[0m\u001b[1;36m12\u001b[0m\u001b[1;33m)\u001b[0m\u001b[1;33m)\u001b[0m\u001b[1;33m\u001b[0m\u001b[1;33m\u001b[0m\u001b[0m\n\u001b[1;32m----> 3\u001b[1;33m \u001b[0mobj\u001b[0m \u001b[1;33m=\u001b[0m \u001b[1;33m[\u001b[0m\u001b[0m_name\u001b[0m\u001b[1;33m[\u001b[0m\u001b[0mi\u001b[0m\u001b[1;33m]\u001b[0m \u001b[1;32mfor\u001b[0m \u001b[0mi\u001b[0m \u001b[1;32min\u001b[0m \u001b[0mnp\u001b[0m\u001b[1;33m.\u001b[0m\u001b[0margsort\u001b[0m\u001b[1;33m(\u001b[0m\u001b[0m_count\u001b[0m\u001b[1;33m)\u001b[0m\u001b[1;33m[\u001b[0m\u001b[1;33m:\u001b[0m\u001b[1;33m:\u001b[0m\u001b[1;33m-\u001b[0m\u001b[1;36m1\u001b[0m\u001b[1;33m]\u001b[0m\u001b[1;33m[\u001b[0m\u001b[1;33m:\u001b[0m\u001b[1;36m30\u001b[0m\u001b[1;33m]\u001b[0m\u001b[1;33m]\u001b[0m\u001b[1;33m\u001b[0m\u001b[1;33m\u001b[0m\u001b[0m\n\u001b[0m\u001b[0;32m      4\u001b[0m \u001b[0my_pos\u001b[0m \u001b[1;33m=\u001b[0m \u001b[0mnp\u001b[0m\u001b[1;33m.\u001b[0m\u001b[0marange\u001b[0m\u001b[1;33m(\u001b[0m\u001b[0mlen\u001b[0m\u001b[1;33m(\u001b[0m\u001b[0mobj\u001b[0m\u001b[1;33m)\u001b[0m\u001b[1;33m)\u001b[0m\u001b[1;33m\u001b[0m\u001b[1;33m\u001b[0m\u001b[0m\n\u001b[0;32m      5\u001b[0m \u001b[0mplt\u001b[0m\u001b[1;33m.\u001b[0m\u001b[0mbarh\u001b[0m\u001b[1;33m(\u001b[0m\u001b[0my_pos\u001b[0m\u001b[1;33m,\u001b[0m \u001b[0mnp\u001b[0m\u001b[1;33m.\u001b[0m\u001b[0msort\u001b[0m\u001b[1;33m(\u001b[0m\u001b[0mrank\u001b[0m\u001b[1;33m)\u001b[0m\u001b[1;33m[\u001b[0m\u001b[1;33m:\u001b[0m\u001b[1;33m:\u001b[0m\u001b[1;33m-\u001b[0m\u001b[1;36m1\u001b[0m\u001b[1;33m]\u001b[0m\u001b[1;33m[\u001b[0m\u001b[1;33m:\u001b[0m\u001b[1;36m30\u001b[0m\u001b[1;33m]\u001b[0m\u001b[1;33m,\u001b[0m \u001b[0malign\u001b[0m\u001b[1;33m=\u001b[0m\u001b[1;34m'center'\u001b[0m\u001b[1;33m,\u001b[0m \u001b[0malpha\u001b[0m \u001b[1;33m=\u001b[0m \u001b[1;36m0.7\u001b[0m\u001b[1;33m)\u001b[0m\u001b[1;33m\u001b[0m\u001b[1;33m\u001b[0m\u001b[0m\n",
      "\u001b[1;31mNameError\u001b[0m: name '_count' is not defined"
     ]
    },
    {
     "data": {
      "text/plain": [
       "<Figure size 864x864 with 0 Axes>"
      ]
     },
     "metadata": {},
     "output_type": "display_data"
    }
   ],
   "source": [
    "#Now let's plot the top 30 restaurants\n",
    "plt.figure(figsize=(12,12))\n",
    "obj = [_name[i] for i in np.argsort(_count)[::-1][:30]]\n",
    "y_pos = np.arange(len(obj))\n",
    "plt.barh(y_pos, np.sort(rank)[::-1][:30], align='center', alpha = 0.7)\n",
    "plt.yticks(y_pos,objects)\n",
    "plt.title('Top 30 restaurants Reviews in AZ 2015-2017')\n",
    "plt.xlabel('NO. Reviews')\n",
    "plt.gca().invert_yaxis()"
   ]
  },
  {
   "cell_type": "code",
   "execution_count": null,
   "metadata": {},
   "outputs": [],
   "source": [
    "#Now let's check the average stars of those most reviewed restaurants\n",
    "average_stars = df.groupby(['business_id'])['average_stars'].mean()\n",
    "plt.figure(figsize=(12,12))\n",
    "y_pos = np.arange(len(obj))\n",
    "plt.barh(y_pos, [average_stars[i] for i in np.argsort(rank)[::-1][:30]], align='center', alpha = 0.7)\n",
    "plt.yticks(y_pos,obj)\n",
    "plt.xlabel('Average stars')\n",
    "plt.title('Average Stars for Top 30 Restaurants')\n",
    "plt.gca().invert_yaxis()"
   ]
  },
  {
   "cell_type": "code",
   "execution_count": null,
   "metadata": {},
   "outputs": [],
   "source": [
    "# As we can see the top 30 restaurants all have average stars more than 4.0"
   ]
  },
  {
   "cell_type": "markdown",
   "metadata": {},
   "source": [
    "### (2) What are the top type of restaruants in AZ?"
   ]
  },
  {
   "cell_type": "code",
   "execution_count": null,
   "metadata": {},
   "outputs": [],
   "source": [
    "from sklearn.feature_extraction.text import CountVectorizer\n",
    "vectorizer = CountVectorizer()\n",
    "corpus = df['categories']\n",
    "X = vectorizer.fit_transform(corpus) \n",
    "X = np.sum(X, axis=0)\n",
    "X = np.array(X)[0]\n",
    "cate_label = vectorizer.get_feature_names()"
   ]
  },
  {
   "cell_type": "code",
   "execution_count": null,
   "metadata": {},
   "outputs": [],
   "source": [
    "top_10_label = [cate_label[i] for i in np.argsort(X)[::-1][1:11]]\n",
    "top_10_percentage = [X[i]/sum(X) for i in np.argsort(X)[::-1][1:11]]\n",
    "print('%25s %25s' % ('Label name', 'Percentage of all labels'))\n",
    "for i in range(10):\n",
    "    print('%24s  %24f' % \\\n",
    "          (top_10_label[i], top_10_percentage[i]))"
   ]
  },
  {
   "cell_type": "code",
   "execution_count": null,
   "metadata": {},
   "outputs": [],
   "source": [
    "# Well, people in AZ definately love bars the most! "
   ]
  },
  {
   "cell_type": "code",
   "execution_count": null,
   "metadata": {},
   "outputs": [],
   "source": []
  }
 ],
 "metadata": {
  "kernelspec": {
   "display_name": "Python 3",
   "language": "python",
   "name": "python3"
  },
  "language_info": {
   "codemirror_mode": {
    "name": "ipython",
    "version": 3
   },
   "file_extension": ".py",
   "mimetype": "text/x-python",
   "name": "python",
   "nbconvert_exporter": "python",
   "pygments_lexer": "ipython3",
   "version": "3.7.3"
  }
 },
 "nbformat": 4,
 "nbformat_minor": 2
}
